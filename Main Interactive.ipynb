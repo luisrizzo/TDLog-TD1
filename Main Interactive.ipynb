{
 "cells": [
  {
   "cell_type": "code",
   "execution_count": 1,
   "metadata": {},
   "outputs": [],
   "source": [
    "import importlib\n",
    "import random\n",
    "import string\n",
    "import unittest\n",
    "import doctest\n",
    "from Main_TP3 import *"
   ]
  },
  {
   "cell_type": "code",
   "execution_count": 2,
   "metadata": {},
   "outputs": [
    {
     "name": "stdout",
     "output_type": "stream",
     "text": [
      "width? 5\n",
      "height? 5\n",
      "element? AAo\n",
      "element? BBo\n",
      "element? CCo\n",
      "element? DDo\n",
      "element? \n",
      " ABCDE \n",
      "Ao    A\n",
      "B o   B\n",
      "C  o  C\n",
      "D   o D\n",
      "E     E\n",
      " ABCDE \n",
      "entry point?>A\n",
      " ABCDE \n",
      "Ao    A\n",
      "B o   B\n",
      "C  o  C\n",
      "D   o.D\n",
      "E     E\n",
      " ABCDE \n",
      "exit points: ['>B', '>C', '>D']\n"
     ]
    }
   ],
   "source": [
    "All_exits()\n"
   ]
  },
  {
   "cell_type": "code",
   "execution_count": null,
   "metadata": {},
   "outputs": [],
   "source": [
    "print"
   ]
  },
  {
   "cell_type": "code",
   "execution_count": null,
   "metadata": {},
   "outputs": [],
   "source": []
  }
 ],
 "metadata": {
  "kernelspec": {
   "display_name": "Python 3",
   "language": "python",
   "name": "python3"
  },
  "language_info": {
   "codemirror_mode": {
    "name": "ipython",
    "version": 3
   },
   "file_extension": ".py",
   "mimetype": "text/x-python",
   "name": "python",
   "nbconvert_exporter": "python",
   "pygments_lexer": "ipython3",
   "version": "3.6.5"
  }
 },
 "nbformat": 4,
 "nbformat_minor": 2
}
